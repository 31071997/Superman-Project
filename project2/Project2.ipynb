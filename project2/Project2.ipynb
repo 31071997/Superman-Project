{
 "cells": [
  {
   "cell_type": "code",
   "execution_count": 444,
   "id": "0bd7a71d-1ca0-48dc-8fed-a6f232309fc4",
   "metadata": {},
   "outputs": [],
   "source": [
    "arr = []"
   ]
  },
  {
   "cell_type": "code",
   "execution_count": 462,
   "id": "90454374-94c4-4278-81dd-4d9b94a0a8e5",
   "metadata": {},
   "outputs": [
    {
     "name": "stdin",
     "output_type": "stream",
     "text": [
      " Rent\n",
      " 8000\n"
     ]
    }
   ],
   "source": [
    "category = input()\n",
    "amount = int(input())\n",
    "dict = {'category': category, 'amount': amount} "
   ]
  },
  {
   "cell_type": "code",
   "execution_count": 464,
   "id": "8f3376b4-5b08-44c4-9937-bda78c861c57",
   "metadata": {},
   "outputs": [
    {
     "data": {
      "text/plain": [
       "[{'category': 'Food', 'amount': 2500},\n",
       " {'category': 'Transport', 'amount': 1200},\n",
       " {'category': 'Shopping', 'amount': 3000},\n",
       " {'category': 'Food', 'amount': 1500},\n",
       " {'category': 'Rent', 'amount': 8000}]"
      ]
     },
     "execution_count": 464,
     "metadata": {},
     "output_type": "execute_result"
    }
   ],
   "source": [
    "arr.append(dict)\n",
    "arr"
   ]
  },
  {
   "cell_type": "code",
   "execution_count": 466,
   "id": "48e377f3-436b-4263-b8c8-bd941f9fa2e9",
   "metadata": {},
   "outputs": [
    {
     "name": "stdout",
     "output_type": "stream",
     "text": [
      "16200\n"
     ]
    }
   ],
   "source": [
    "total_expenses = 0\n",
    "for i in range(0, len(arr)):\n",
    "    total_expenses = total_expenses + arr[i]['amount']\n",
    "print(total_expenses)"
   ]
  },
  {
   "cell_type": "code",
   "execution_count": 468,
   "id": "3dd9ad9a-d78f-40a3-97fa-24c1889ef0c9",
   "metadata": {},
   "outputs": [
    {
     "name": "stdout",
     "output_type": "stream",
     "text": [
      "['Food', 'Transport', 'Shopping', 'Rent']\n"
     ]
    }
   ],
   "source": [
    "category = []\n",
    "for i in range(0, len(arr)):\n",
    "    if arr[i]['category'] not in category:\n",
    "        category.append(arr[i]['category'])\n",
    "print(category)"
   ]
  },
  {
   "cell_type": "code",
   "execution_count": 470,
   "id": "b3e9d613-2081-48a5-88bb-aa6df6a20a77",
   "metadata": {},
   "outputs": [
    {
     "name": "stdout",
     "output_type": "stream",
     "text": [
      "Category wise expense :  {'Food': 4000, 'Transport': 1200, 'Shopping': 3000, 'Rent': 8000}\n"
     ]
    }
   ],
   "source": [
    "individual_category = {}\n",
    "for item in arr:\n",
    "    category = item['category']\n",
    "    amount = item['amount']\n",
    "    if category in individual_category:\n",
    "        individual_category[category] += amount\n",
    "    else:\n",
    "        individual_category[category] = amount\n",
    "print(\"Category wise expense : \", individual_category)"
   ]
  },
  {
   "cell_type": "code",
   "execution_count": 474,
   "id": "3aa79039-3d99-4f4e-a217-00416c6a07d6",
   "metadata": {},
   "outputs": [
    {
     "name": "stdin",
     "output_type": "stream",
     "text": [
      " 30000\n"
     ]
    },
    {
     "name": "stdout",
     "output_type": "stream",
     "text": [
      "savings-> 13800\n"
     ]
    }
   ],
   "source": [
    "income = int(input())\n",
    "savings = income - total_expenses\n",
    "if(savings < 0):\n",
    "    print('loss-> ',abs(savings))\n",
    "elif(savings == 0):\n",
    "    print('nothing->', savings)\n",
    "elif(savings > 0):\n",
    "    print('savings->', savings)"
   ]
  },
  {
   "cell_type": "code",
   "execution_count": 484,
   "id": "70746e2e-c1bc-4cc6-a2ab-e10ec18183ad",
   "metadata": {},
   "outputs": [
    {
     "data": {
      "text/plain": [
       "8000"
      ]
     },
     "execution_count": 484,
     "metadata": {},
     "output_type": "execute_result"
    }
   ],
   "source": [
    "highest_expense = max(individual_category.values())\n",
    "highest_expense"
   ]
  },
  {
   "cell_type": "code",
   "execution_count": 518,
   "id": "0bd064d0-36d6-4a04-896b-8e1f7c354b73",
   "metadata": {},
   "outputs": [
    {
     "data": {
      "text/plain": [
       "dict_keys(['Food', 'Transport', 'Shopping', 'Rent'])"
      ]
     },
     "execution_count": 518,
     "metadata": {},
     "output_type": "execute_result"
    }
   ],
   "source": [
    "individual_category.keys()"
   ]
  },
  {
   "cell_type": "code",
   "execution_count": 542,
   "id": "92cf5ec5-2d72-4f47-9cec-9bd9fba3e172",
   "metadata": {},
   "outputs": [
    {
     "name": "stdout",
     "output_type": "stream",
     "text": [
      "Rent\n"
     ]
    }
   ],
   "source": [
    "for i in individual_category:\n",
    "    if highest_expense == individual_category[i]:\n",
    "        highest_category = i\n",
    "        break\n",
    "print(highest_category)"
   ]
  },
  {
   "cell_type": "code",
   "execution_count": 548,
   "id": "e3a9457d-f5a1-47ba-96a2-c829399fbe9b",
   "metadata": {},
   "outputs": [
    {
     "name": "stdout",
     "output_type": "stream",
     "text": [
      "highest category -  Rent , expense - 8000\n"
     ]
    }
   ],
   "source": [
    "print('highest category - ', highest_category,', expense -', highest_expense)"
   ]
  },
  {
   "cell_type": "code",
   "execution_count": null,
   "id": "b9f1a0a9-e31e-4fea-b8e3-b2946b0f461f",
   "metadata": {},
   "outputs": [],
   "source": []
  }
 ],
 "metadata": {
  "kernelspec": {
   "name": "conda-base-py"
  },
  "language_info": {
   "codemirror_mode": {
    "name": "ipython",
    "version": 3
   },
   "file_extension": ".py",
   "mimetype": "text/x-python",
   "name": "python",
   "nbconvert_exporter": "python",
   "pygments_lexer": "ipython3",
   "version": "3.11.5"
  }
 },
 "nbformat": 4,
 "nbformat_minor": 5
}
