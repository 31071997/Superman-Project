{
 "cells": [
  {
   "cell_type": "code",
   "execution_count": 1,
   "id": "82f3a075-9789-4b4b-b3f8-07bd6896b28c",
   "metadata": {},
   "outputs": [
    {
     "name": "stdout",
     "output_type": "stream",
     "text": [
      "Hello Student!\n"
     ]
    }
   ],
   "source": [
    "print('Hello Student!')"
   ]
  },
  {
   "cell_type": "code",
   "execution_count": 17,
   "id": "c38ef269-ef59-4cb3-a1e5-dd10cc03f6df",
   "metadata": {},
   "outputs": [
    {
     "name": "stdin",
     "output_type": "stream",
     "text": [
      " Ashraf\n",
      " 85\n",
      " 78\n",
      " 92\n"
     ]
    }
   ],
   "source": [
    "name = input()\n",
    "math = int(input())\n",
    "english = int(input())\n",
    "science = int(input())"
   ]
  },
  {
   "cell_type": "code",
   "execution_count": 19,
   "id": "b8b41a5b-ec57-4c3d-a268-62eb75c87c30",
   "metadata": {},
   "outputs": [],
   "source": [
    "Student = {'name': name, 'math': math, 'english': english, 'science': science} "
   ]
  },
  {
   "cell_type": "code",
   "execution_count": 21,
   "id": "066a64ff-a34b-4c6e-a3bc-ced6320e65de",
   "metadata": {},
   "outputs": [
    {
     "name": "stdout",
     "output_type": "stream",
     "text": [
      "{'name': 'Ashraf', 'math': 85, 'english': 78, 'science': 92}\n"
     ]
    }
   ],
   "source": [
    "print(Student)"
   ]
  },
  {
   "cell_type": "code",
   "execution_count": 23,
   "id": "7d4cf79a-e8de-47fa-b393-22e45693873a",
   "metadata": {},
   "outputs": [
    {
     "name": "stdout",
     "output_type": "stream",
     "text": [
      "Ashraf\n"
     ]
    }
   ],
   "source": [
    "print(Student['name'])"
   ]
  },
  {
   "cell_type": "code",
   "execution_count": 25,
   "id": "3c0d7eb3-b3d3-4b5d-bb81-b80a45b56a0c",
   "metadata": {},
   "outputs": [
    {
     "name": "stdout",
     "output_type": "stream",
     "text": [
      "85\n"
     ]
    }
   ],
   "source": [
    "print(Student['math'])"
   ]
  },
  {
   "cell_type": "code",
   "execution_count": 27,
   "id": "9e419edb-d4ea-4746-ac77-05d40812335d",
   "metadata": {},
   "outputs": [
    {
     "name": "stdin",
     "output_type": "stream",
     "text": [
      " Ashraf\n",
      " 85\n",
      " 78\n",
      " 92\n",
      " Nusrat\n",
      " 90\n",
      " 88\n",
      " 80\n",
      " Sakib\n",
      " 70\n",
      " 60\n",
      " 75\n",
      " -1\n"
     ]
    },
    {
     "name": "stdout",
     "output_type": "stream",
     "text": [
      "[{'name': 'Ashraf', 'Math': 85, 'English': 78, 'Science': 92}, {'name': 'Nusrat', 'Math': 90, 'English': 88, 'Science': 80}, {'name': 'Sakib', 'Math': 70, 'English': 60, 'Science': 75}]\n",
      "3\n"
     ]
    }
   ],
   "source": [
    "StudentData = []\n",
    "while 1:\n",
    "    Name = input()\n",
    "    if(Name == '-1'):\n",
    "        break\n",
    "    Math = int(input())\n",
    "    if(Name == -1):\n",
    "        break\n",
    "    English = int(input())\n",
    "    if(Name == -1):\n",
    "        break\n",
    "    Science = int(input())\n",
    "    if(Name == -1):\n",
    "        break\n",
    "    else:\n",
    "        student = {'name': Name, 'Math': Math, 'English': English, 'Science': Science}\n",
    "        StudentData.append(student)\n",
    "print(StudentData)\n",
    "print(len(StudentData))"
   ]
  },
  {
   "cell_type": "code",
   "execution_count": 29,
   "id": "0166c6b4-c2b1-4267-bb27-efc5970626d1",
   "metadata": {},
   "outputs": [
    {
     "name": "stdout",
     "output_type": "stream",
     "text": [
      "Ashraf 255\n",
      "Nusrat 258\n",
      "Sakib 205\n"
     ]
    }
   ],
   "source": [
    "total = []\n",
    "name = []\n",
    "for i in range(0, len(StudentData)):\n",
    "    StudentData[i]['total'] = StudentData[i]['Math']+StudentData[i]['English']+StudentData[i]['Science']\n",
    "    print(StudentData[i]['name'], StudentData[i]['total'])\n",
    "    total.append(StudentData[i]['total'])\n",
    "    name.append(StudentData[i]['name'])"
   ]
  },
  {
   "cell_type": "code",
   "execution_count": 31,
   "id": "25491558-a2d2-4963-9178-e858d7b2609f",
   "metadata": {},
   "outputs": [
    {
     "data": {
      "text/plain": [
       "['Ashraf', 'Nusrat', 'Sakib']"
      ]
     },
     "execution_count": 31,
     "metadata": {},
     "output_type": "execute_result"
    }
   ],
   "source": [
    "name"
   ]
  },
  {
   "cell_type": "code",
   "execution_count": 33,
   "id": "2f697f8c-8ab0-48d8-9d74-8f51c7785eb4",
   "metadata": {},
   "outputs": [
    {
     "name": "stdout",
     "output_type": "stream",
     "text": [
      "Topper: Nusrat with 258 marks\n"
     ]
    }
   ],
   "source": [
    "for i in range(0, len(StudentData)):\n",
    "    if(StudentData[i]['total'] == max(total)):\n",
    "        print('Topper:',StudentData[i]['name'],'with', StudentData[i]['total'],'marks')\n",
    "        break"
   ]
  },
  {
   "cell_type": "code",
   "execution_count": 37,
   "id": "61339241-b1b1-488a-a93d-f57b6441f84c",
   "metadata": {},
   "outputs": [
    {
     "name": "stdout",
     "output_type": "stream",
     "text": [
      "------Report Card-------\n",
      "Name: Ashraf\n",
      "Name: 85\n",
      "Name: 78\n",
      "Name: 92\n",
      "Name: 255\n",
      "-------------\n",
      "\n",
      "\n",
      "------Report Card-------\n",
      "Name: Nusrat\n",
      "Name: 90\n",
      "Name: 88\n",
      "Name: 80\n",
      "Name: 258\n",
      "-------------\n",
      "\n",
      "\n",
      "------Report Card-------\n",
      "Name: Sakib\n",
      "Name: 70\n",
      "Name: 60\n",
      "Name: 75\n",
      "Name: 205\n",
      "-------------\n",
      "\n",
      "\n",
      "Overall Topper -> Nusrat with 258\n"
     ]
    }
   ],
   "source": [
    "maximum = 0\n",
    "student = ''\n",
    "for i in range(0, len(StudentData)):\n",
    "    print('------Report Card-------')\n",
    "    print('Name:', StudentData[i]['name'])\n",
    "    print('Name:', StudentData[i]['Math'])\n",
    "    print('Name:', StudentData[i]['English'])\n",
    "    print('Name:', StudentData[i]['Science'])\n",
    "    print('Name:', StudentData[i]['total'])\n",
    "    print('-------------')\n",
    "    print('\\n')\n",
    "    total = StudentData[i]['total']\n",
    "    if total > maximum:\n",
    "        maximum = total\n",
    "        student = StudentData[i]['name']\n",
    "print('Overall Topper ->', student,'with', maximum)\n"
   ]
  },
  {
   "cell_type": "code",
   "execution_count": null,
   "id": "d7797aec-0339-4e7c-ad90-1fbc465c1fc1",
   "metadata": {},
   "outputs": [],
   "source": []
  }
 ],
 "metadata": {
  "kernelspec": {
   "display_name": "Python [conda env:base] *",
   "language": "python",
   "name": "conda-base-py"
  },
  "language_info": {
   "codemirror_mode": {
    "name": "ipython",
    "version": 3
   },
   "file_extension": ".py",
   "mimetype": "text/x-python",
   "name": "python",
   "nbconvert_exporter": "python",
   "pygments_lexer": "ipython3",
   "version": "3.11.5"
  }
 },
 "nbformat": 4,
 "nbformat_minor": 5
}
