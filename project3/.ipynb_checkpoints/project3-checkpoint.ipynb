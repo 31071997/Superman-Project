{
 "cells": [
  {
   "cell_type": "code",
   "execution_count": 23,
   "id": "4bd8cde1-15b7-4a84-9e83-dc69017f5d29",
   "metadata": {},
   "outputs": [
    {
     "name": "stdin",
     "output_type": "stream",
     "text": [
      " Monday\n",
      " Shirt\n",
      " 1200\n",
      " Monday\n",
      " Pants\n",
      " 800\n",
      " Tuesday\n",
      " Shirt\n",
      " 1500\n",
      " Tuesday\n",
      " Shoe\n",
      " 2000\n",
      " Wednesday\n",
      " Pant\n",
      " 1000\n",
      " Wednesday\n",
      " Shoe\n",
      " 25000\n",
      " -1\n"
     ]
    }
   ],
   "source": [
    "sales = []\n",
    "dict = {}\n",
    "while 1:\n",
    "    d = input()\n",
    "    if(d == '-1'):\n",
    "        break\n",
    "    p = input()\n",
    "    if(p == '-1'):\n",
    "        break\n",
    "    a = int(input())\n",
    "    if(a == -1):\n",
    "        break\n",
    "    dict[day] = d   \n",
    "    dict[product] = p\n",
    "    dict[amount] = a\n",
    "    sales.append(dict)"
   ]
  },
  {
   "cell_type": "code",
   "execution_count": 29,
   "id": "63c2fe2f-6e6a-4160-816d-3a459ec8c79a",
   "metadata": {},
   "outputs": [
    {
     "data": {
      "text/plain": [
       "'Wednesday'"
      ]
     },
     "execution_count": 29,
     "metadata": {},
     "output_type": "execute_result"
    }
   ],
   "source": [
    "dict[day]"
   ]
  },
  {
   "cell_type": "code",
   "execution_count": 31,
   "id": "8ac7a367-101c-43fa-b47d-f5368edd6c10",
   "metadata": {},
   "outputs": [
    {
     "data": {
      "text/plain": [
       "[{'-1': 'Wednesday', 'shoe': 'Shoe', 2500: 25000},\n",
       " {'-1': 'Wednesday', 'shoe': 'Shoe', 2500: 25000},\n",
       " {'-1': 'Wednesday', 'shoe': 'Shoe', 2500: 25000},\n",
       " {'-1': 'Wednesday', 'shoe': 'Shoe', 2500: 25000},\n",
       " {'-1': 'Wednesday', 'shoe': 'Shoe', 2500: 25000},\n",
       " {'-1': 'Wednesday', 'shoe': 'Shoe', 2500: 25000}]"
      ]
     },
     "execution_count": 31,
     "metadata": {},
     "output_type": "execute_result"
    }
   ],
   "source": [
    "sales"
   ]
  },
  {
   "cell_type": "code",
   "execution_count": null,
   "id": "d80a437c-46bc-4ebf-8df5-b9bd4bb94e11",
   "metadata": {},
   "outputs": [],
   "source": [
    "total_sales = 0"
   ]
  }
 ],
 "metadata": {
  "kernelspec": {
   "display_name": "Python [conda env:base] *",
   "language": "python",
   "name": "conda-base-py"
  },
  "language_info": {
   "codemirror_mode": {
    "name": "ipython",
    "version": 3
   },
   "file_extension": ".py",
   "mimetype": "text/x-python",
   "name": "python",
   "nbconvert_exporter": "python",
   "pygments_lexer": "ipython3",
   "version": "3.11.5"
  }
 },
 "nbformat": 4,
 "nbformat_minor": 5
}
