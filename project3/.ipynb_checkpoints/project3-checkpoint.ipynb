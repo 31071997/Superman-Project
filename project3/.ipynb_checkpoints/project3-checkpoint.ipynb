{
 "cells": [
  {
   "cell_type": "code",
   "execution_count": 2,
   "id": "3e396366-54c8-445b-8176-c7cc4cddc31d",
   "metadata": {},
   "outputs": [
    {
     "name": "stdin",
     "output_type": "stream",
     "text": [
      " Monday\n",
      " Shirt\n",
      " 1200\n",
      " Monday\n",
      " Pant\n",
      " 800\n",
      " Tuesday\n",
      " Shirt\n",
      " 1500\n",
      " Tuesday\n",
      " Shoe\n",
      " 2000\n",
      " Wednesday\n",
      " Pant\n",
      " 1000\n",
      " Wednesday\n",
      " Shoe\n",
      " 2500\n",
      " -1\n"
     ]
    }
   ],
   "source": [
    "sales = []\n",
    "dict = {}\n",
    "while 1:\n",
    "    day = input()\n",
    "    if(day == '-1'):\n",
    "        break\n",
    "    product = input()\n",
    "    if(product == '-1'):\n",
    "        break\n",
    "    amount = int(input())\n",
    "    if(amount == -1):\n",
    "        break\n",
    "    else:\n",
    "        dict = {'day':day, 'product':product, 'amount':amount}\n",
    "        sales.append(dict)"
   ]
  },
  {
   "cell_type": "code",
   "execution_count": 4,
   "id": "63c2fe2f-6e6a-4160-816d-3a459ec8c79a",
   "metadata": {},
   "outputs": [
    {
     "data": {
      "text/plain": [
       "'Wednesday'"
      ]
     },
     "execution_count": 4,
     "metadata": {},
     "output_type": "execute_result"
    }
   ],
   "source": [
    "dict['day']"
   ]
  },
  {
   "cell_type": "code",
   "execution_count": 6,
   "id": "8ac7a367-101c-43fa-b47d-f5368edd6c10",
   "metadata": {},
   "outputs": [
    {
     "data": {
      "text/plain": [
       "[{'day': 'Monday', 'product': 'Shirt', 'amount': 1200},\n",
       " {'day': 'Monday', 'product': 'Pant', 'amount': 800},\n",
       " {'day': 'Tuesday', 'product': 'Shirt', 'amount': 1500},\n",
       " {'day': 'Tuesday', 'product': 'Shoe', 'amount': 2000},\n",
       " {'day': 'Wednesday', 'product': 'Pant', 'amount': 1000},\n",
       " {'day': 'Wednesday', 'product': 'Shoe', 'amount': 2500}]"
      ]
     },
     "execution_count": 6,
     "metadata": {},
     "output_type": "execute_result"
    }
   ],
   "source": [
    "sales"
   ]
  },
  {
   "cell_type": "code",
   "execution_count": 40,
   "id": "d80a437c-46bc-4ebf-8df5-b9bd4bb94e11",
   "metadata": {},
   "outputs": [
    {
     "name": "stdout",
     "output_type": "stream",
     "text": [
      "Total slaes 9000\n"
     ]
    }
   ],
   "source": [
    "total_sales = 0\n",
    "for i in sales:\n",
    "    total_sales += i['amount']\n",
    "print('Total slaes',total_sales)"
   ]
  },
  {
   "cell_type": "code",
   "execution_count": 10,
   "id": "e816d8cc-3bdd-41ba-874b-61b0282d1304",
   "metadata": {},
   "outputs": [
    {
     "data": {
      "text/plain": [
       "'Shirt'"
      ]
     },
     "execution_count": 10,
     "metadata": {},
     "output_type": "execute_result"
    }
   ],
   "source": [
    "sales[0]['product']"
   ]
  },
  {
   "cell_type": "code",
   "execution_count": 12,
   "id": "cdc668dd-8e19-4c91-af36-501feae58c5c",
   "metadata": {},
   "outputs": [],
   "source": [
    "dict_amount = {}"
   ]
  },
  {
   "cell_type": "code",
   "execution_count": 14,
   "id": "4f90adcd-4cd0-4c1a-998d-68fb70d0295d",
   "metadata": {},
   "outputs": [],
   "source": [
    "for sale in sales:\n",
    "    product = sale['product']\n",
    "    amount = sale['amount']\n",
    "    if product in dict_amount:\n",
    "        dict_amount[product] += amount\n",
    "    else:\n",
    "        dict_amount[product] = amount"
   ]
  },
  {
   "cell_type": "code",
   "execution_count": 44,
   "id": "d71acbf7-590d-42cf-a1fb-850e2ba3804e",
   "metadata": {},
   "outputs": [
    {
     "name": "stdout",
     "output_type": "stream",
     "text": [
      "Product wise sales: {'Shirt': 2700, 'Pant': 1800, 'Shoe': 4500}\n"
     ]
    }
   ],
   "source": [
    "print('Product wise sales:', dict_amount)"
   ]
  },
  {
   "cell_type": "code",
   "execution_count": 46,
   "id": "e8542999-1010-4e3f-9a68-52b9db0dc1cd",
   "metadata": {},
   "outputs": [
    {
     "name": "stdout",
     "output_type": "stream",
     "text": [
      "Most sold product Shoe\n"
     ]
    }
   ],
   "source": [
    "print('Most sold product',max(dict_amount)) "
   ]
  },
  {
   "cell_type": "code",
   "execution_count": null,
   "id": "c5e2c0ce-183a-4d72-bd55-7d5ceeff3765",
   "metadata": {},
   "outputs": [],
   "source": []
  }
 ],
 "metadata": {
  "kernelspec": {
   "display_name": "Python [conda env:base] *",
   "language": "python",
   "name": "conda-base-py"
  },
  "language_info": {
   "codemirror_mode": {
    "name": "ipython",
    "version": 3
   },
   "file_extension": ".py",
   "mimetype": "text/x-python",
   "name": "python",
   "nbconvert_exporter": "python",
   "pygments_lexer": "ipython3",
   "version": "3.11.5"
  }
 },
 "nbformat": 4,
 "nbformat_minor": 5
}
