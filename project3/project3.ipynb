{
 "cells": [
  {
   "cell_type": "code",
   "execution_count": 5,
   "id": "4bd8cde1-15b7-4a84-9e83-dc69017f5d29",
   "metadata": {},
   "outputs": [
    {
     "name": "stdin",
     "output_type": "stream",
     "text": [
      " Monday\n",
      " Shirt\n",
      " 1200\n",
      " Monday\n",
      " Pant\n",
      " 800\n",
      " Tuesday\n",
      " Shirt\n",
      " 1500\n",
      " Tuesday\n",
      " Shoe\n",
      " 2000\n",
      " Tuesday\n",
      " Pant\n",
      " 1000\n",
      " Wednesday\n",
      " Shoe\n",
      " 2500\n",
      " -1\n"
     ]
    }
   ],
   "source": [
    "sales = []\n",
    "dict = {}\n",
    "while 1:\n",
    "    day = input()\n",
    "    if(day == '-1'):\n",
    "        break\n",
    "    product = input()\n",
    "    if(product == '-1'):\n",
    "        break\n",
    "    amount = int(input())\n",
    "    if(amount == -1):\n",
    "        break\n",
    "    else:\n",
    "        dict = {'day':day, 'product':product, 'amount':amount}\n",
    "        sales.append(dict)"
   ]
  },
  {
   "cell_type": "code",
   "execution_count": 13,
   "id": "63c2fe2f-6e6a-4160-816d-3a459ec8c79a",
   "metadata": {},
   "outputs": [
    {
     "data": {
      "text/plain": [
       "'Wednesday'"
      ]
     },
     "execution_count": 13,
     "metadata": {},
     "output_type": "execute_result"
    }
   ],
   "source": [
    "dict['day']"
   ]
  },
  {
   "cell_type": "code",
   "execution_count": 9,
   "id": "8ac7a367-101c-43fa-b47d-f5368edd6c10",
   "metadata": {},
   "outputs": [
    {
     "data": {
      "text/plain": [
       "[{'day': 'Monday', 'product': 'Shirt', 'amount': 1200},\n",
       " {'day': 'Monday', 'product': 'Pant', 'amount': 800},\n",
       " {'day': 'Tuesday', 'product': 'Shirt', 'amount': 1500},\n",
       " {'day': 'Tuesday', 'product': 'Shoe', 'amount': 2000},\n",
       " {'day': 'Tuesday', 'product': 'Pant', 'amount': 1000},\n",
       " {'day': 'Wednesday', 'product': 'Shoe', 'amount': 2500}]"
      ]
     },
     "execution_count": 9,
     "metadata": {},
     "output_type": "execute_result"
    }
   ],
   "source": [
    "sales"
   ]
  },
  {
   "cell_type": "code",
   "execution_count": null,
   "id": "d80a437c-46bc-4ebf-8df5-b9bd4bb94e11",
   "metadata": {},
   "outputs": [],
   "source": [
    "total_sales = 0"
   ]
  }
 ],
 "metadata": {
  "kernelspec": {
   "display_name": "Python [conda env:base] *",
   "language": "python",
   "name": "conda-base-py"
  },
  "language_info": {
   "codemirror_mode": {
    "name": "ipython",
    "version": 3
   },
   "file_extension": ".py",
   "mimetype": "text/x-python",
   "name": "python",
   "nbconvert_exporter": "python",
   "pygments_lexer": "ipython3",
   "version": "3.11.5"
  }
 },
 "nbformat": 4,
 "nbformat_minor": 5
}
